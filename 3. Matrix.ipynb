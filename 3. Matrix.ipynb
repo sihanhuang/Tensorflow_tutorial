{
 "cells": [
  {
   "cell_type": "code",
   "execution_count": 9,
   "metadata": {
    "collapsed": false
   },
   "outputs": [
    {
     "name": "stdout",
     "output_type": "stream",
     "text": [
      "47.69744515419006\n"
     ]
    }
   ],
   "source": [
    "import numpy as np\n",
    "import tensorflow as tf\n",
    "\n",
    "n=1000\n",
    "import time\n",
    "start_time = time.time()\n",
    "for i in range(10):\n",
    "    w = np.random.rand(n,n)\n",
    "    w = tf.constant(w)\n",
    "    with tf.Session() as sess:\n",
    "        tf.matmul(w,w).eval()\n",
    "elapsed_time = time.time() - start_time\n",
    "print(elapsed_time)"
   ]
  }
 ],
 "metadata": {
  "kernelspec": {
   "display_name": "Python 3",
   "language": "python",
   "name": "python3"
  },
  "language_info": {
   "codemirror_mode": {
    "name": "ipython",
    "version": 3
   },
   "file_extension": ".py",
   "mimetype": "text/x-python",
   "name": "python",
   "nbconvert_exporter": "python",
   "pygments_lexer": "ipython3",
   "version": "3.6.1"
  }
 },
 "nbformat": 4,
 "nbformat_minor": 2
}
